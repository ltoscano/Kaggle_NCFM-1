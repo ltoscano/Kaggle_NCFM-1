{
 "cells": [
  {
   "cell_type": "code",
   "execution_count": 7,
   "metadata": {
    "collapsed": true
   },
   "outputs": [],
   "source": [
    "import numpy as np\n",
    "import pandas as pd\n",
    "from PIL import Image\n",
    "import collections, math\n",
    "\n",
    "import matplotlib.pyplot as plt\n",
    "%matplotlib inline "
   ]
  },
  {
   "cell_type": "code",
   "execution_count": null,
   "metadata": {
    "collapsed": false
   },
   "outputs": [],
   "source": [
    "#crop test images and cache to TEST_CROP_DIR by detections_full.pkl and RFCN/ImageSets/Main/test.txt\n",
    "FISH_CLASSES = ['NoF', 'ALB', 'BET', 'DOL', 'LAG', 'OTHER', 'SHARK', 'YFT']\n",
    "\n",
    "import pickle \n",
    "with open('../data/RFCN_detections/detections_full_resnet101_iter30000.pkl','rb') as f:\n",
    "    detections_full = pickle.load(f, encoding='latin1') \n",
    "    \n",
    "CONF_THRESH = 0.9\n",
    "outputs = []\n",
    "count = np.zeros(len(detections_full[0]))\n",
    "\n",
    "for im in range(len(detections_full[0])):\n",
    "#for im in range(1):\n",
    "    outputs_im = []\n",
    "    detects_im = []\n",
    "    for cls in range(1,len(FISH_CLASSES)):\n",
    "        detects_im_cls = detections_full[cls][im]\n",
    "        for i in range(len(detects_im_cls)):\n",
    "            if np.max(detects_im_cls[i,4+cls]) >= CONF_THRESH:\n",
    "                outputs_im.append(detects_im_cls[i,:]) \n",
    "    count[im] = len(outputs_im)\n",
    "    for cls in range(1,len(FISH_CLASSES)):  \n",
    "        detects_im.append(detections_full[cls][im])\n",
    "    detects_im = np.vstack(detects_im)\n",
    "    if len(outputs_im) == 0:\n",
    "        ind = np.argmax(np.max(detects_im[:,5:], axis=1))\n",
    "        l = [0,0,0,0]\n",
    "        l.extend(np.ndarray.tolist(detects_im[ind,4:]))\n",
    "        outputs_im.append(l)\n",
    "    outputs_im = np.asarray(outputs_im)\n",
    "    outputs.append(outputs_im)\n",
    "\n",
    "print(sum([outputs[i].shape[0] for i in range(len(outputs))]))"
   ]
  },
  {
   "cell_type": "code",
   "execution_count": null,
   "metadata": {
    "collapsed": false
   },
   "outputs": [],
   "source": [
    "collections.Counter(count9)"
   ]
  },
  {
   "cell_type": "code",
   "execution_count": null,
   "metadata": {
    "collapsed": false
   },
   "outputs": [],
   "source": [
    "np.where(count==2)"
   ]
  },
  {
   "cell_type": "code",
   "execution_count": null,
   "metadata": {
    "collapsed": false
   },
   "outputs": [],
   "source": [
    "count5 = count"
   ]
  },
  {
   "cell_type": "code",
   "execution_count": null,
   "metadata": {
    "collapsed": false
   },
   "outputs": [],
   "source": [
    "diff = [count9[i]==0 and count5[i]>1 for i in range(4777)]\n",
    "ims_diff = []\n",
    "for i in range(4777):\n",
    "    if diff[i] == True:\n",
    "        ims_diff.append(i)\n",
    "\n",
    "ims_diff"
   ]
  },
  {
   "cell_type": "code",
   "execution_count": null,
   "metadata": {
    "collapsed": false
   },
   "outputs": [],
   "source": [
    "#visualize test image crop\n",
    "FISH_CLASSES = ['NoF', 'ALB', 'BET', 'DOL', 'LAG', 'OTHER', 'SHARK', 'YFT']\n",
    "\n",
    "with open(\"../RFCN/ImageSets/Main/test.txt\",\"r\") as f:\n",
    "    ims = f.readlines()\n",
    "test_files = [im[:-1]+'.jpg' for im in ims]\n",
    "\n",
    "for j in np.ndarray.tolist(ims_2[0]):\n",
    "    dets = outputs[j]\n",
    "    print(dets)\n",
    "    im = Image.open(\"../RFCN/JPEGImages/\"+test_files[j])\n",
    "    im = np.asarray(im)\n",
    "    #im = im[:, :, (2, 1, 0)]\n",
    "    fig, ax = plt.subplots(figsize=(10, 10))\n",
    "    ax.imshow(im, aspect='equal')\n",
    "    for i in range(dets.shape[0]):\n",
    "        bbox = dets[i, :4]\n",
    "        score = np.amax(dets[i,4:])\n",
    "        index = np.argmax(dets[i,4:])\n",
    "        class_name = FISH_CLASSES[index]\n",
    "        if not (bbox[0] == 0 and bbox[1] == 0 and bbox[2] == 0 and bbox[3] == 0):\n",
    "            ax.add_patch(plt.Rectangle((bbox[0], bbox[1]),\n",
    "                              bbox[2] - bbox[0],\n",
    "                              bbox[3] - bbox[1], fill=False,\n",
    "                              edgecolor='red', linewidth=3.5))\n",
    "            ax.text(bbox[0], bbox[1] - 2,\n",
    "                    '{:s} {:.3f}'.format(class_name, score),\n",
    "                    bbox=dict(facecolor='blue', alpha=0.5),\n",
    "                    fontsize=14, color='white')\n",
    "\n",
    "    ax.set_title(('Image {} detections with '\n",
    "                  'p({} | box) >= {:.1f}').format(j, class_name, CONF_THRESH),fontsize=14)\n",
    "    plt.axis('off')\n",
    "    plt.tight_layout()\n",
    "    plt.draw()"
   ]
  },
  {
   "cell_type": "code",
   "execution_count": 8,
   "metadata": {
    "collapsed": false
   },
   "outputs": [
    {
     "name": "stdout",
     "output_type": "stream",
     "text": [
      "logloss of train is 0.14516134700848998\n"
     ]
    }
   ],
   "source": [
    "FISH_CLASSES = ['NoF', 'ALB', 'BET', 'DOL', 'LAG', 'OTHER', 'SHARK', 'YFT']\n",
    "\n",
    "import pickle \n",
    "with open('../data/RFCN_detections/detections_full_resnet101_iter30000.pkl','rb') as f:\n",
    "    detections_full = pickle.load(f, encoding='latin1') \n",
    "    \n",
    "CONF_THRESH = 0.9\n",
    "outputs = np.ndarray((len(detections_full[0]), len(FISH_CLASSES)), dtype=np.float64)\n",
    "\n",
    "for im in range(len(detections_full[0])):\n",
    "#for im in range(1):\n",
    "    outputs_im = []\n",
    "    detects_im = []\n",
    "    for cls in range(1,len(FISH_CLASSES)):\n",
    "        detects_im_cls = detections_full[cls][im]\n",
    "        for i in range(len(detects_im_cls)):\n",
    "            if np.max(detects_im_cls[i,4+cls]) >= CONF_THRESH:\n",
    "                outputs_im.append(detects_im_cls[i,:]) \n",
    "    count[im] = len(outputs_im)\n",
    "    for cls in range(1,len(FISH_CLASSES)):  \n",
    "        detects_im.append(detections_full[cls][im])\n",
    "    detects_im = np.vstack(detects_im)\n",
    "    if len(outputs_im) == 0:\n",
    "        ind = np.argmax(np.max(detects_im[:,5:], axis=1))\n",
    "        l = [0,0,0,0]\n",
    "        l.extend(np.ndarray.tolist(detects_im[ind,4:]))\n",
    "        outputs_im.append(l)\n",
    "    outputs_im = np.asarray(outputs_im)\n",
    "    outputs[im] = np.mean(outputs_im, axis=0)[4:]\n",
    "\n",
    "CLIP_THRESH = 0.02\n",
    "outputs_cliped = np.clip(outputs, CLIP_THRESH, 1, out=None)\n",
    "outputs_cliped = outputs_cliped/np.sum(outputs_cliped, axis=1, keepdims=True)\n",
    "    \n",
    "test_preds = outputs_cliped[:1000]\n",
    "train_preds = outputs_cliped[1000:]\n",
    "\n",
    "with open(\"../RFCN/ImageSets/Main/test.txt\",\"r\") as f:\n",
    "    ims = f.readlines()\n",
    "test_files = [im[:-1]+'.jpg' for im in ims[:1000]]\n",
    "train_files = [im[:-1] for im in ims[1000:]]\n",
    "with open(\"../RFCN/ImageSets/Main/train_test.txt\",\"r\") as f:\n",
    "    train_file_labels = f.readlines()\n",
    "\n",
    "log_losses = []\n",
    "for i in range(len(train_preds)):\n",
    "    im = train_files[i]\n",
    "    for im_label in train_file_labels:\n",
    "        if im == im_label[:9]:\n",
    "            label = im_label[10:-1]\n",
    "            index = FISH_CLASSES.index(label)\n",
    "            log_losses.append(-math.log(train_preds[i][index]))\n",
    "log_loss = sum(log_losses) / float(len(log_losses))\n",
    "print('logloss of train is', log_loss )\n",
    "\n",
    "import datetime\n",
    "\n",
    "submission = pd.DataFrame(test_preds, columns=FISH_CLASSES)\n",
    "#submission.loc[:, 'image'] = pd.Series(test_files, index=submission.index)\n",
    "submission.insert(0, 'image', test_files)\n",
    "\n",
    "now = datetime.datetime.now()\n",
    "info = 'RFCN_resnet101_conf{:.1f}_'.format(CONF_THRESH) + 'clip{:.2f}_'.format(CLIP_THRESH) + '{:.4f}'.format(log_loss)\n",
    "sub_file = 'submission_' + info + '_' + str(now.strftime(\"%Y-%m-%d-%H-%M\")) + '.csv'\n",
    "submission.to_csv(sub_file, index=False)"
   ]
  },
  {
   "cell_type": "code",
   "execution_count": null,
   "metadata": {
    "collapsed": true
   },
   "outputs": [],
   "source": []
  }
 ],
 "metadata": {
  "anaconda-cloud": {},
  "kernelspec": {
   "display_name": "Python [conda root]",
   "language": "python",
   "name": "conda-root-py"
  },
  "language_info": {
   "codemirror_mode": {
    "name": "ipython",
    "version": 3
   },
   "file_extension": ".py",
   "mimetype": "text/x-python",
   "name": "python",
   "nbconvert_exporter": "python",
   "pygments_lexer": "ipython3",
   "version": "3.5.2"
  }
 },
 "nbformat": 4,
 "nbformat_minor": 1
}
