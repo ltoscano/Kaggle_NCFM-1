{
 "cells": [
  {
   "cell_type": "code",
   "execution_count": 1,
   "metadata": {
    "collapsed": true
   },
   "outputs": [],
   "source": [
    "import os, math, glob\n",
    "import ujson as json\n",
    "from PIL import Image\n",
    "import numpy as np\n",
    "from sklearn.model_selection import train_test_split"
   ]
  },
  {
   "cell_type": "code",
   "execution_count": 2,
   "metadata": {
    "collapsed": true
   },
   "outputs": [],
   "source": [
    "TRAIN_DIR = '../data/train/'\n",
    "TEST_DIR = '../data/test_stg1/'\n",
    "FISH_CLASSES = ['ALB', 'BET', 'DOL', 'LAG', 'NoF', 'OTHER', 'SHARK', 'YFT']"
   ]
  },
  {
   "cell_type": "code",
   "execution_count": 5,
   "metadata": {
    "collapsed": false
   },
   "outputs": [
    {
     "name": "stdout",
     "output_type": "stream",
     "text": [
      "ALB/img_00568.jpg\n",
      "no bbox\n",
      "ALB/img_07439.jpg\n",
      "no bbox\n"
     ]
    }
   ],
   "source": [
    "#write Annotations\n",
    "if not os.path.exists('./Annotations'):\n",
    "    os.mkdir('./Annotations')\n",
    "files = glob.glob('./Annotations/*')\n",
    "for f in files:\n",
    "    os.remove(f)\n",
    "    \n",
    "crop_classes=FISH_CLASSES[:]\n",
    "crop_classes.remove('NoF')\n",
    "crop_classes\n",
    "\n",
    "for c in crop_classes:\n",
    "    j = json.load(open('../data/BBannotations/{}.json'.format(c), 'r'))\n",
    "    for l in j: \n",
    "        filename = l[\"filename\"]\n",
    "        head, tail = os.path.split(filename)\n",
    "        basename, file_extension = os.path.splitext(tail) \n",
    "        if len(l[\"annotations\"]) == 0:\n",
    "            print(filename)\n",
    "            print(\"no bbox\")\n",
    "        else:\n",
    "            f = open('Annotations/' + basename + '.xml','w') \n",
    "            line = \"<annotation>\" + '\\n'\n",
    "            f.write(line)\n",
    "            line = '\\t<folder>' + c + '</folder>' + '\\n'\n",
    "            f.write(line)\n",
    "            line = '\\t<filename>' + tail + '</filename>' + '\\n'\n",
    "            f.write(line)\n",
    "            line = '\\t<source>\\n\\t\\t<database>Source</database>\\n\\t</source>\\n'\n",
    "            f.write(line)\n",
    "            im=Image.open(TRAIN_DIR+ c + '/' + tail)\n",
    "            (width, height) = im.size\n",
    "            line = '\\t<size>\\n\\t\\t<width>'+ str(width) + '</width>\\n\\t\\t<height>' + \\\n",
    "            str(height) + '</height>\\n\\t\\t<depth>3</depth>\\n\\t</size>'\n",
    "            f.write(line)\n",
    "            line = '\\n\\t<segmented>0</segmented>'\n",
    "            f.write(line)\n",
    "            for a in l[\"annotations\"]:\n",
    "                line = '\\n\\t<object>'\n",
    "                line += '\\n\\t\\t<name>' + a[\"class\"].lower() + '</name>\\n\\t\\t<pose>Unspecified</pose>'\n",
    "                #line += '\\n\\t\\t<name>fish</name>\\n\\t\\t<pose>Unspecified</pose>'\n",
    "                line += '\\n\\t\\t<truncated>0</truncated>\\n\\t\\t<difficult>0</difficult>'\n",
    "                xmin = (a[\"x\"])\n",
    "                line += '\\n\\t\\t<bndbox>\\n\\t\\t\\t<xmin>' + str(xmin) + '</xmin>'\n",
    "                ymin = (a[\"y\"])\n",
    "                line += '\\n\\t\\t\\t<ymin>' + str(ymin) + '</ymin>'\n",
    "                width = (a[\"width\"])\n",
    "                height = (a[\"height\"])\n",
    "                xmax = xmin + width\n",
    "                ymax = ymin + height\n",
    "                line += '\\n\\t\\t\\t<xmax>' + str(xmax) + '</xmax>'\n",
    "                line += '\\n\\t\\t\\t<ymax>' + str(ymax) + '</ymax>'\n",
    "                line += '\\n\\t\\t</bndbox>'\n",
    "                line += '\\n\\t</object>'     \n",
    "                f.write(line)\n",
    "            line = '</annotation>'\n",
    "            f.write(line)\n",
    "            f.close()"
   ]
  },
  {
   "cell_type": "code",
   "execution_count": 3,
   "metadata": {
    "collapsed": false
   },
   "outputs": [],
   "source": [
    "#write ImageSets/Main\n",
    "if not os.path.exists('./ImageSets/Main'):\n",
    "    os.mkdir('./ImageSets/Main')\n",
    "files = glob.glob('./ImageSets/Main/*')\n",
    "for f in files:\n",
    "    os.remove(f)\n",
    "    \n",
    "crop_classes=FISH_CLASSES[:]\n",
    "crop_classes.remove('NoF')\n",
    "crop_classes\n",
    "\n",
    "fish_dir = './JPEGImages'\n",
    "imgs = [os.path.splitext(im)[0] for im in os.listdir(fish_dir)]\n",
    "index = np.random.permutation(len(imgs))\n",
    "imgs = [imgs[i] for i in index]\n",
    "num_train = math.ceil(len(imgs)*0.8)\n",
    "with open('./ImageSets/Main/train.txt','w') as f:\n",
    "    train = sorted(imgs[:num_train])\n",
    "    for im in train:\n",
    "        f.write(im + '\\n')\n",
    "with open('./ImageSets/Main/val.txt','w') as f:\n",
    "    val = sorted(imgs[num_train:])\n",
    "    for im in val:\n",
    "        f.write(im + '\\n')\n",
    "with open('./ImageSets/Main/trainval.txt','w') as f:\n",
    "    trainval = sorted(imgs)\n",
    "    for im in trainval:\n",
    "        f.write(im + '\\n')\n",
    "\n",
    "for fish in crop_classes:\n",
    "    fish_dir = TRAIN_DIR+'{}'.format(fish)\n",
    "    imgs_fish = [os.path.splitext(im)[0] for im in os.listdir(fish_dir)]\n",
    "    train_fish = [im+'  1' if im in imgs_fish else im+' -1' for im in train]\n",
    "    val_fish = [im+'  1' if im in imgs_fish else im+' -1' for im in val]\n",
    "    trainval_fish = [im+'  1' if im in imgs_fish else im+' -1' for im in trainval]\n",
    "    with open('./ImageSets/Main/' + fish + '_train.txt','w') as f:\n",
    "        for im in train_fish:\n",
    "            f.write(im + '\\n')\n",
    "    with open('./ImageSets/Main/' + fish + '_val.txt','w') as f:\n",
    "        for im in val_fish:\n",
    "            f.write(im + '\\n')\n",
    "    with open('./ImageSets/Main/' + fish + '_trainval.txt','w') as f:\n",
    "        for im in trainval_fish:\n",
    "            f.write(im + '\\n')"
   ]
  },
  {
   "cell_type": "code",
   "execution_count": null,
   "metadata": {
    "collapsed": true
   },
   "outputs": [],
   "source": []
  }
 ],
 "metadata": {
  "anaconda-cloud": {},
  "kernelspec": {
   "display_name": "Python [conda root]",
   "language": "python",
   "name": "conda-root-py"
  },
  "language_info": {
   "codemirror_mode": {
    "name": "ipython",
    "version": 3
   },
   "file_extension": ".py",
   "mimetype": "text/x-python",
   "name": "python",
   "nbconvert_exporter": "python",
   "pygments_lexer": "ipython3",
   "version": "3.5.2"
  }
 },
 "nbformat": 4,
 "nbformat_minor": 1
}
